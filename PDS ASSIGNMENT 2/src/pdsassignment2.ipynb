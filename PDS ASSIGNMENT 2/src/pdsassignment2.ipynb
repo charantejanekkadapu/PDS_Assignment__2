{
 "cells": [
  {
   "cell_type": "code",
   "execution_count": 2,
   "id": "118c3327-e27d-42aa-a480-6ce71731c597",
   "metadata": {
    "tags": []
   },
   "outputs": [],
   "source": [
    "import pandas as pd\n",
    "import numpy as np\n",
    "import seaborn as sn\n",
    "import datetime"
   ]
  },
  {
   "cell_type": "code",
   "execution_count": 6,
   "id": "d70bc65b-b3be-40f2-beb2-d43d54833ef3",
   "metadata": {
    "tags": []
   },
   "outputs": [],
   "source": [
    "# Reading the csv file\n",
    "data=pd.read_csv('train.csv')"
   ]
  },
  {
   "cell_type": "code",
   "execution_count": 7,
   "id": "e48cfa63-e419-4419-8862-ebf43ecc9c1b",
   "metadata": {
    "collapsed": true,
    "jupyter": {
     "outputs_hidden": true
    },
    "tags": []
   },
   "outputs": [
    {
     "data": {
      "text/html": [
       "<div>\n",
       "<style scoped>\n",
       "    .dataframe tbody tr th:only-of-type {\n",
       "        vertical-align: middle;\n",
       "    }\n",
       "\n",
       "    .dataframe tbody tr th {\n",
       "        vertical-align: top;\n",
       "    }\n",
       "\n",
       "    .dataframe thead th {\n",
       "        text-align: right;\n",
       "    }\n",
       "</style>\n",
       "<table border=\"1\" class=\"dataframe\">\n",
       "  <thead>\n",
       "    <tr style=\"text-align: right;\">\n",
       "      <th></th>\n",
       "      <th>Unnamed: 0</th>\n",
       "      <th>Name</th>\n",
       "      <th>Location</th>\n",
       "      <th>Year</th>\n",
       "      <th>Kilometers_Driven</th>\n",
       "      <th>Fuel_Type</th>\n",
       "      <th>Transmission</th>\n",
       "      <th>Owner_Type</th>\n",
       "      <th>Mileage</th>\n",
       "      <th>Engine</th>\n",
       "      <th>Power</th>\n",
       "      <th>Seats</th>\n",
       "      <th>New_Price</th>\n",
       "      <th>Price</th>\n",
       "    </tr>\n",
       "  </thead>\n",
       "  <tbody>\n",
       "    <tr>\n",
       "      <th>0</th>\n",
       "      <td>1</td>\n",
       "      <td>Hyundai Creta 1.6 CRDi SX Option</td>\n",
       "      <td>Pune</td>\n",
       "      <td>2015</td>\n",
       "      <td>41000</td>\n",
       "      <td>Diesel</td>\n",
       "      <td>Manual</td>\n",
       "      <td>First</td>\n",
       "      <td>19.67 kmpl</td>\n",
       "      <td>1582 CC</td>\n",
       "      <td>126.2 bhp</td>\n",
       "      <td>5.0</td>\n",
       "      <td>NaN</td>\n",
       "      <td>12.50</td>\n",
       "    </tr>\n",
       "    <tr>\n",
       "      <th>1</th>\n",
       "      <td>2</td>\n",
       "      <td>Honda Jazz V</td>\n",
       "      <td>Chennai</td>\n",
       "      <td>2011</td>\n",
       "      <td>46000</td>\n",
       "      <td>Petrol</td>\n",
       "      <td>Manual</td>\n",
       "      <td>First</td>\n",
       "      <td>13 km/kg</td>\n",
       "      <td>1199 CC</td>\n",
       "      <td>88.7 bhp</td>\n",
       "      <td>5.0</td>\n",
       "      <td>8.61 Lakh</td>\n",
       "      <td>4.50</td>\n",
       "    </tr>\n",
       "    <tr>\n",
       "      <th>2</th>\n",
       "      <td>3</td>\n",
       "      <td>Maruti Ertiga VDI</td>\n",
       "      <td>Chennai</td>\n",
       "      <td>2012</td>\n",
       "      <td>87000</td>\n",
       "      <td>Diesel</td>\n",
       "      <td>Manual</td>\n",
       "      <td>First</td>\n",
       "      <td>20.77 kmpl</td>\n",
       "      <td>1248 CC</td>\n",
       "      <td>88.76 bhp</td>\n",
       "      <td>7.0</td>\n",
       "      <td>NaN</td>\n",
       "      <td>6.00</td>\n",
       "    </tr>\n",
       "    <tr>\n",
       "      <th>3</th>\n",
       "      <td>4</td>\n",
       "      <td>Audi A4 New 2.0 TDI Multitronic</td>\n",
       "      <td>Coimbatore</td>\n",
       "      <td>2013</td>\n",
       "      <td>40670</td>\n",
       "      <td>Diesel</td>\n",
       "      <td>Automatic</td>\n",
       "      <td>Second</td>\n",
       "      <td>15.2 kmpl</td>\n",
       "      <td>1968 CC</td>\n",
       "      <td>140.8 bhp</td>\n",
       "      <td>5.0</td>\n",
       "      <td>NaN</td>\n",
       "      <td>17.74</td>\n",
       "    </tr>\n",
       "    <tr>\n",
       "      <th>4</th>\n",
       "      <td>6</td>\n",
       "      <td>Nissan Micra Diesel XV</td>\n",
       "      <td>Jaipur</td>\n",
       "      <td>2013</td>\n",
       "      <td>86999</td>\n",
       "      <td>Diesel</td>\n",
       "      <td>Manual</td>\n",
       "      <td>First</td>\n",
       "      <td>23.08 kmpl</td>\n",
       "      <td>1461 CC</td>\n",
       "      <td>63.1 bhp</td>\n",
       "      <td>5.0</td>\n",
       "      <td>NaN</td>\n",
       "      <td>3.50</td>\n",
       "    </tr>\n",
       "  </tbody>\n",
       "</table>\n",
       "</div>"
      ],
      "text/plain": [
       "   Unnamed: 0                              Name    Location  Year  \\\n",
       "0           1  Hyundai Creta 1.6 CRDi SX Option        Pune  2015   \n",
       "1           2                      Honda Jazz V     Chennai  2011   \n",
       "2           3                 Maruti Ertiga VDI     Chennai  2012   \n",
       "3           4   Audi A4 New 2.0 TDI Multitronic  Coimbatore  2013   \n",
       "4           6            Nissan Micra Diesel XV      Jaipur  2013   \n",
       "\n",
       "   Kilometers_Driven Fuel_Type Transmission Owner_Type     Mileage   Engine  \\\n",
       "0              41000    Diesel       Manual      First  19.67 kmpl  1582 CC   \n",
       "1              46000    Petrol       Manual      First    13 km/kg  1199 CC   \n",
       "2              87000    Diesel       Manual      First  20.77 kmpl  1248 CC   \n",
       "3              40670    Diesel    Automatic     Second   15.2 kmpl  1968 CC   \n",
       "4              86999    Diesel       Manual      First  23.08 kmpl  1461 CC   \n",
       "\n",
       "       Power  Seats  New_Price  Price  \n",
       "0  126.2 bhp    5.0        NaN  12.50  \n",
       "1   88.7 bhp    5.0  8.61 Lakh   4.50  \n",
       "2  88.76 bhp    7.0        NaN   6.00  \n",
       "3  140.8 bhp    5.0        NaN  17.74  \n",
       "4   63.1 bhp    5.0        NaN   3.50  "
      ]
     },
     "execution_count": 7,
     "metadata": {},
     "output_type": "execute_result"
    }
   ],
   "source": [
    "data.head()\n"
   ]
  },
  {
   "cell_type": "code",
   "execution_count": 8,
   "id": "fef0ef42-f997-4b06-a852-3d6efa76cea6",
   "metadata": {
    "tags": []
   },
   "outputs": [
    {
     "data": {
      "text/plain": [
       "Unnamed: 0              0\n",
       "Name                    0\n",
       "Location                0\n",
       "Year                    0\n",
       "Kilometers_Driven       0\n",
       "Fuel_Type               0\n",
       "Transmission            0\n",
       "Owner_Type              0\n",
       "Mileage                 2\n",
       "Engine                 36\n",
       "Power                  36\n",
       "Seats                  38\n",
       "New_Price            5032\n",
       "Price                   0\n",
       "dtype: int64"
      ]
     },
     "execution_count": 8,
     "metadata": {},
     "output_type": "execute_result"
    }
   ],
   "source": [
    "data.isnull().sum()"
   ]
  },
  {
   "cell_type": "code",
   "execution_count": 9,
   "id": "69e41c68-e685-4a7e-8bb9-5cd2c39e8de4",
   "metadata": {
    "tags": []
   },
   "outputs": [],
   "source": [
    "df_org=pd.DataFrame(data)"
   ]
  },
  {
   "cell_type": "code",
   "execution_count": 10,
   "id": "ea22da91-3f01-48bc-9b80-b49f829509d8",
   "metadata": {
    "tags": []
   },
   "outputs": [],
   "source": [
    "df_cleaned=df_org.dropna(subset=['Mileage','Engine','Power','Seats','New_Price'])"
   ]
  },
  {
   "cell_type": "code",
   "execution_count": 11,
   "id": "f0542aa1-4542-4018-992c-d6790c8f53b1",
   "metadata": {
    "tags": []
   },
   "outputs": [],
   "source": [
    "df_cleaned.reset_index(drop=True,inplace=True)"
   ]
  },
  {
   "cell_type": "code",
   "execution_count": 12,
   "id": "43a81334-b0ac-4a15-80ef-6e74c73e6cac",
   "metadata": {
    "tags": []
   },
   "outputs": [
    {
     "name": "stdout",
     "output_type": "stream",
     "text": [
      "original Dataframe shape: (5847, 14)\n"
     ]
    }
   ],
   "source": [
    "print(\"original Dataframe shape:\",df_org.shape)"
   ]
  },
  {
   "cell_type": "code",
   "execution_count": 13,
   "id": "f1cee104-00c7-4b6f-a019-adc139610066",
   "metadata": {
    "tags": []
   },
   "outputs": [
    {
     "name": "stdout",
     "output_type": "stream",
     "text": [
      "Dataframe (814, 14)\n"
     ]
    }
   ],
   "source": [
    "print(\"Dataframe\",df_cleaned.shape)"
   ]
  },
  {
   "cell_type": "code",
   "execution_count": 14,
   "id": "24675278-ec75-4591-813f-87ec47f06026",
   "metadata": {
    "tags": []
   },
   "outputs": [],
   "source": [
    "# question b\n"
   ]
  },
  {
   "cell_type": "code",
   "execution_count": 55,
   "id": "e51d6f07-182e-4226-8cb6-fc246fbc7ca1",
   "metadata": {
    "tags": []
   },
   "outputs": [],
   "source": [
    "df_cleaned.to_csv('C:\\\\Users\\\\nekka\\\\OneDrive\\\\Desktop\\\\PDS ASSIGNMENT 2\\\\cleandata\\\\new_cleaned_data.csv',index=False)"
   ]
  },
  {
   "cell_type": "code",
   "execution_count": 56,
   "id": "1613591d-575c-4efd-afd2-aaf5f96d3737",
   "metadata": {
    "tags": []
   },
   "outputs": [],
   "source": [
    "data_clean=pd.read_csv('C:\\\\Users\\\\nekka\\\\OneDrive\\\\Desktop\\\\PDS ASSIGNMENT 2\\\\cleandata\\\\new_cleaned_data.csv')"
   ]
  },
  {
   "cell_type": "code",
   "execution_count": 22,
   "id": "7483b290-a298-4850-a5c7-57ecdc3fa552",
   "metadata": {
    "tags": []
   },
   "outputs": [
    {
     "data": {
      "text/plain": [
       "Unnamed: 0           0\n",
       "Name                 0\n",
       "Location             0\n",
       "Year                 0\n",
       "Kilometers_Driven    0\n",
       "Fuel_Type            0\n",
       "Transmission         0\n",
       "Owner_Type           0\n",
       "Mileage              0\n",
       "Engine               0\n",
       "Power                0\n",
       "Seats                0\n",
       "New_Price            0\n",
       "Price                0\n",
       "dtype: int64"
      ]
     },
     "execution_count": 22,
     "metadata": {},
     "output_type": "execute_result"
    }
   ],
   "source": [
    "data_clean.isnull().sum()"
   ]
  },
  {
   "cell_type": "code",
   "execution_count": 57,
   "id": "a9f8a30a-5306-47d5-bbd2-8f2ae85aa972",
   "metadata": {
    "tags": []
   },
   "outputs": [],
   "source": [
    "df_unit=pd.read_csv('C:\\\\Users\\\\nekka\\\\OneDrive\\\\Desktop\\\\PDS ASSIGNMENT 2\\\\cleandata\\\\new_cleaned_data.csv')"
   ]
  },
  {
   "cell_type": "code",
   "execution_count": 24,
   "id": "67d721fb-8a58-4711-82b2-96f84b1472d7",
   "metadata": {
    "tags": []
   },
   "outputs": [],
   "source": [
    "df_unit['Mileage']=df_unit['Mileage'].str.replace(r' kmpl| km/kg','',regex=True).astype(float)\n",
    "df_unit['Engine']=df_unit['Engine'].str.replace(' CC','').astype(int)\n",
    "df_unit['Power']=df_unit['Power'].str.replace(' bhp','').astype(float)\n",
    "df_unit['New_Price']=df_unit['New_Price'].str.replace(r' Lakh| Cr','',regex=True).astype(float)"
   ]
  },
  {
   "cell_type": "code",
   "execution_count": 58,
   "id": "7a11a68f-e371-4ff2-a9b1-3812e4c09557",
   "metadata": {
    "tags": []
   },
   "outputs": [],
   "source": [
    "data_with_no_units=df_unit.to_csv('C:\\\\Users\\\\nekka\\\\OneDrive\\\\Desktop\\\\PDS ASSIGNMENT 2\\\\cleandata\\\\no_units_data.csv',index=False)"
   ]
  },
  {
   "cell_type": "code",
   "execution_count": 59,
   "id": "c573eae3-9351-4c97-b64b-0bd10f020854",
   "metadata": {
    "tags": []
   },
   "outputs": [],
   "source": [
    "datanounits=pd.read_csv('C:\\\\Users\\\\nekka\\\\OneDrive\\\\Desktop\\\\PDS ASSIGNMENT 2\\\\cleandata\\\\no_units_data.csv')"
   ]
  },
  {
   "cell_type": "code",
   "execution_count": 29,
   "id": "812c0b8a-cb7f-4898-abab-4524cde76aed",
   "metadata": {
    "tags": []
   },
   "outputs": [
    {
     "data": {
      "text/html": [
       "<div>\n",
       "<style scoped>\n",
       "    .dataframe tbody tr th:only-of-type {\n",
       "        vertical-align: middle;\n",
       "    }\n",
       "\n",
       "    .dataframe tbody tr th {\n",
       "        vertical-align: top;\n",
       "    }\n",
       "\n",
       "    .dataframe thead th {\n",
       "        text-align: right;\n",
       "    }\n",
       "</style>\n",
       "<table border=\"1\" class=\"dataframe\">\n",
       "  <thead>\n",
       "    <tr style=\"text-align: right;\">\n",
       "      <th></th>\n",
       "      <th>Unnamed: 0</th>\n",
       "      <th>Name</th>\n",
       "      <th>Location</th>\n",
       "      <th>Year</th>\n",
       "      <th>Kilometers_Driven</th>\n",
       "      <th>Fuel_Type</th>\n",
       "      <th>Transmission</th>\n",
       "      <th>Owner_Type</th>\n",
       "      <th>Mileage</th>\n",
       "      <th>Engine</th>\n",
       "      <th>Power</th>\n",
       "      <th>Seats</th>\n",
       "      <th>New_Price</th>\n",
       "      <th>Price</th>\n",
       "    </tr>\n",
       "  </thead>\n",
       "  <tbody>\n",
       "    <tr>\n",
       "      <th>0</th>\n",
       "      <td>2</td>\n",
       "      <td>Honda Jazz V</td>\n",
       "      <td>Chennai</td>\n",
       "      <td>2011</td>\n",
       "      <td>46000</td>\n",
       "      <td>Petrol</td>\n",
       "      <td>Manual</td>\n",
       "      <td>First</td>\n",
       "      <td>13.00</td>\n",
       "      <td>1199</td>\n",
       "      <td>88.70</td>\n",
       "      <td>5.0</td>\n",
       "      <td>8.61</td>\n",
       "      <td>4.50</td>\n",
       "    </tr>\n",
       "    <tr>\n",
       "      <th>1</th>\n",
       "      <td>7</td>\n",
       "      <td>Toyota Innova Crysta 2.8 GX AT 8S</td>\n",
       "      <td>Mumbai</td>\n",
       "      <td>2016</td>\n",
       "      <td>36000</td>\n",
       "      <td>Diesel</td>\n",
       "      <td>Automatic</td>\n",
       "      <td>First</td>\n",
       "      <td>11.36</td>\n",
       "      <td>2755</td>\n",
       "      <td>171.50</td>\n",
       "      <td>8.0</td>\n",
       "      <td>21.00</td>\n",
       "      <td>17.50</td>\n",
       "    </tr>\n",
       "    <tr>\n",
       "      <th>2</th>\n",
       "      <td>10</td>\n",
       "      <td>Maruti Ciaz Zeta</td>\n",
       "      <td>Kochi</td>\n",
       "      <td>2018</td>\n",
       "      <td>25692</td>\n",
       "      <td>Petrol</td>\n",
       "      <td>Manual</td>\n",
       "      <td>First</td>\n",
       "      <td>21.56</td>\n",
       "      <td>1462</td>\n",
       "      <td>103.25</td>\n",
       "      <td>5.0</td>\n",
       "      <td>10.65</td>\n",
       "      <td>9.95</td>\n",
       "    </tr>\n",
       "    <tr>\n",
       "      <th>3</th>\n",
       "      <td>15</td>\n",
       "      <td>Mitsubishi Pajero Sport 4X4</td>\n",
       "      <td>Delhi</td>\n",
       "      <td>2014</td>\n",
       "      <td>110000</td>\n",
       "      <td>Diesel</td>\n",
       "      <td>Manual</td>\n",
       "      <td>First</td>\n",
       "      <td>13.50</td>\n",
       "      <td>2477</td>\n",
       "      <td>175.56</td>\n",
       "      <td>7.0</td>\n",
       "      <td>32.01</td>\n",
       "      <td>15.00</td>\n",
       "    </tr>\n",
       "    <tr>\n",
       "      <th>4</th>\n",
       "      <td>20</td>\n",
       "      <td>BMW 3 Series 320d</td>\n",
       "      <td>Kochi</td>\n",
       "      <td>2014</td>\n",
       "      <td>32982</td>\n",
       "      <td>Diesel</td>\n",
       "      <td>Automatic</td>\n",
       "      <td>First</td>\n",
       "      <td>22.69</td>\n",
       "      <td>1995</td>\n",
       "      <td>190.00</td>\n",
       "      <td>5.0</td>\n",
       "      <td>47.87</td>\n",
       "      <td>18.55</td>\n",
       "    </tr>\n",
       "  </tbody>\n",
       "</table>\n",
       "</div>"
      ],
      "text/plain": [
       "   Unnamed: 0                               Name Location  Year  \\\n",
       "0           2                       Honda Jazz V  Chennai  2011   \n",
       "1           7  Toyota Innova Crysta 2.8 GX AT 8S   Mumbai  2016   \n",
       "2          10                   Maruti Ciaz Zeta    Kochi  2018   \n",
       "3          15        Mitsubishi Pajero Sport 4X4    Delhi  2014   \n",
       "4          20                  BMW 3 Series 320d    Kochi  2014   \n",
       "\n",
       "   Kilometers_Driven Fuel_Type Transmission Owner_Type  Mileage  Engine  \\\n",
       "0              46000    Petrol       Manual      First    13.00    1199   \n",
       "1              36000    Diesel    Automatic      First    11.36    2755   \n",
       "2              25692    Petrol       Manual      First    21.56    1462   \n",
       "3             110000    Diesel       Manual      First    13.50    2477   \n",
       "4              32982    Diesel    Automatic      First    22.69    1995   \n",
       "\n",
       "    Power  Seats  New_Price  Price  \n",
       "0   88.70    5.0       8.61   4.50  \n",
       "1  171.50    8.0      21.00  17.50  \n",
       "2  103.25    5.0      10.65   9.95  \n",
       "3  175.56    7.0      32.01  15.00  \n",
       "4  190.00    5.0      47.87  18.55  "
      ]
     },
     "execution_count": 29,
     "metadata": {},
     "output_type": "execute_result"
    }
   ],
   "source": [
    "datanounits.head()"
   ]
  },
  {
   "cell_type": "code",
   "execution_count": 30,
   "id": "e8f9dee6-4af9-4f56-b488-bf2aa33c39b2",
   "metadata": {
    "tags": []
   },
   "outputs": [],
   "source": [
    "# Qusetion c"
   ]
  },
  {
   "cell_type": "code",
   "execution_count": 60,
   "id": "efde1bad-d677-4ebe-9eaa-43d8f7bfacda",
   "metadata": {
    "tags": []
   },
   "outputs": [],
   "source": [
    "df_encode=pd.read_csv('C:\\\\Users\\\\nekka\\\\OneDrive\\\\Desktop\\\\PDS ASSIGNMENT 2\\\\cleandata\\\\no_units_data.csv')"
   ]
  },
  {
   "cell_type": "code",
   "execution_count": 32,
   "id": "32e3ea88-018d-4cba-995e-9e20fa37f262",
   "metadata": {
    "tags": []
   },
   "outputs": [],
   "source": [
    "df_encode=pd.get_dummies(df_encode, columns=['Fuel_Type','Transmission'])"
   ]
  },
  {
   "cell_type": "code",
   "execution_count": 61,
   "id": "c4a71303-5ea2-40ca-8c5f-aa21c311e6e4",
   "metadata": {
    "tags": []
   },
   "outputs": [],
   "source": [
    "data_encodings=df_encode.to_csv('C:\\\\Users\\\\nekka\\\\OneDrive\\\\Desktop\\\\PDS ASSIGNMENT 2\\\\cleandata\\\\encoding_data.csv',index=False)"
   ]
  },
  {
   "cell_type": "code",
   "execution_count": 62,
   "id": "7c54f41d-6108-440e-b364-ccd2aac12433",
   "metadata": {
    "tags": []
   },
   "outputs": [],
   "source": [
    "data_with_encode=pd.read_csv('C:\\\\Users\\\\nekka\\\\OneDrive\\\\Desktop\\\\PDS ASSIGNMENT 2\\\\cleandata\\\\encoding_data.csv')"
   ]
  },
  {
   "cell_type": "code",
   "execution_count": 35,
   "id": "d4a5dc7e-07d8-491d-b706-9319f98c0dfb",
   "metadata": {
    "tags": []
   },
   "outputs": [
    {
     "data": {
      "text/html": [
       "<div>\n",
       "<style scoped>\n",
       "    .dataframe tbody tr th:only-of-type {\n",
       "        vertical-align: middle;\n",
       "    }\n",
       "\n",
       "    .dataframe tbody tr th {\n",
       "        vertical-align: top;\n",
       "    }\n",
       "\n",
       "    .dataframe thead th {\n",
       "        text-align: right;\n",
       "    }\n",
       "</style>\n",
       "<table border=\"1\" class=\"dataframe\">\n",
       "  <thead>\n",
       "    <tr style=\"text-align: right;\">\n",
       "      <th></th>\n",
       "      <th>Unnamed: 0</th>\n",
       "      <th>Name</th>\n",
       "      <th>Location</th>\n",
       "      <th>Year</th>\n",
       "      <th>Kilometers_Driven</th>\n",
       "      <th>Owner_Type</th>\n",
       "      <th>Mileage</th>\n",
       "      <th>Engine</th>\n",
       "      <th>Power</th>\n",
       "      <th>Seats</th>\n",
       "      <th>New_Price</th>\n",
       "      <th>Price</th>\n",
       "      <th>Fuel_Type_Diesel</th>\n",
       "      <th>Fuel_Type_Petrol</th>\n",
       "      <th>Transmission_Automatic</th>\n",
       "      <th>Transmission_Manual</th>\n",
       "    </tr>\n",
       "  </thead>\n",
       "  <tbody>\n",
       "    <tr>\n",
       "      <th>0</th>\n",
       "      <td>2</td>\n",
       "      <td>Honda Jazz V</td>\n",
       "      <td>Chennai</td>\n",
       "      <td>2011</td>\n",
       "      <td>46000</td>\n",
       "      <td>First</td>\n",
       "      <td>13.00</td>\n",
       "      <td>1199</td>\n",
       "      <td>88.70</td>\n",
       "      <td>5.0</td>\n",
       "      <td>8.61</td>\n",
       "      <td>4.50</td>\n",
       "      <td>0</td>\n",
       "      <td>1</td>\n",
       "      <td>0</td>\n",
       "      <td>1</td>\n",
       "    </tr>\n",
       "    <tr>\n",
       "      <th>1</th>\n",
       "      <td>7</td>\n",
       "      <td>Toyota Innova Crysta 2.8 GX AT 8S</td>\n",
       "      <td>Mumbai</td>\n",
       "      <td>2016</td>\n",
       "      <td>36000</td>\n",
       "      <td>First</td>\n",
       "      <td>11.36</td>\n",
       "      <td>2755</td>\n",
       "      <td>171.50</td>\n",
       "      <td>8.0</td>\n",
       "      <td>21.00</td>\n",
       "      <td>17.50</td>\n",
       "      <td>1</td>\n",
       "      <td>0</td>\n",
       "      <td>1</td>\n",
       "      <td>0</td>\n",
       "    </tr>\n",
       "    <tr>\n",
       "      <th>2</th>\n",
       "      <td>10</td>\n",
       "      <td>Maruti Ciaz Zeta</td>\n",
       "      <td>Kochi</td>\n",
       "      <td>2018</td>\n",
       "      <td>25692</td>\n",
       "      <td>First</td>\n",
       "      <td>21.56</td>\n",
       "      <td>1462</td>\n",
       "      <td>103.25</td>\n",
       "      <td>5.0</td>\n",
       "      <td>10.65</td>\n",
       "      <td>9.95</td>\n",
       "      <td>0</td>\n",
       "      <td>1</td>\n",
       "      <td>0</td>\n",
       "      <td>1</td>\n",
       "    </tr>\n",
       "    <tr>\n",
       "      <th>3</th>\n",
       "      <td>15</td>\n",
       "      <td>Mitsubishi Pajero Sport 4X4</td>\n",
       "      <td>Delhi</td>\n",
       "      <td>2014</td>\n",
       "      <td>110000</td>\n",
       "      <td>First</td>\n",
       "      <td>13.50</td>\n",
       "      <td>2477</td>\n",
       "      <td>175.56</td>\n",
       "      <td>7.0</td>\n",
       "      <td>32.01</td>\n",
       "      <td>15.00</td>\n",
       "      <td>1</td>\n",
       "      <td>0</td>\n",
       "      <td>0</td>\n",
       "      <td>1</td>\n",
       "    </tr>\n",
       "    <tr>\n",
       "      <th>4</th>\n",
       "      <td>20</td>\n",
       "      <td>BMW 3 Series 320d</td>\n",
       "      <td>Kochi</td>\n",
       "      <td>2014</td>\n",
       "      <td>32982</td>\n",
       "      <td>First</td>\n",
       "      <td>22.69</td>\n",
       "      <td>1995</td>\n",
       "      <td>190.00</td>\n",
       "      <td>5.0</td>\n",
       "      <td>47.87</td>\n",
       "      <td>18.55</td>\n",
       "      <td>1</td>\n",
       "      <td>0</td>\n",
       "      <td>1</td>\n",
       "      <td>0</td>\n",
       "    </tr>\n",
       "  </tbody>\n",
       "</table>\n",
       "</div>"
      ],
      "text/plain": [
       "   Unnamed: 0                               Name Location  Year  \\\n",
       "0           2                       Honda Jazz V  Chennai  2011   \n",
       "1           7  Toyota Innova Crysta 2.8 GX AT 8S   Mumbai  2016   \n",
       "2          10                   Maruti Ciaz Zeta    Kochi  2018   \n",
       "3          15        Mitsubishi Pajero Sport 4X4    Delhi  2014   \n",
       "4          20                  BMW 3 Series 320d    Kochi  2014   \n",
       "\n",
       "   Kilometers_Driven Owner_Type  Mileage  Engine   Power  Seats  New_Price  \\\n",
       "0              46000      First    13.00    1199   88.70    5.0       8.61   \n",
       "1              36000      First    11.36    2755  171.50    8.0      21.00   \n",
       "2              25692      First    21.56    1462  103.25    5.0      10.65   \n",
       "3             110000      First    13.50    2477  175.56    7.0      32.01   \n",
       "4              32982      First    22.69    1995  190.00    5.0      47.87   \n",
       "\n",
       "   Price  Fuel_Type_Diesel  Fuel_Type_Petrol  Transmission_Automatic  \\\n",
       "0   4.50                 0                 1                       0   \n",
       "1  17.50                 1                 0                       1   \n",
       "2   9.95                 0                 1                       0   \n",
       "3  15.00                 1                 0                       0   \n",
       "4  18.55                 1                 0                       1   \n",
       "\n",
       "   Transmission_Manual  \n",
       "0                    1  \n",
       "1                    0  \n",
       "2                    1  \n",
       "3                    1  \n",
       "4                    0  "
      ]
     },
     "execution_count": 35,
     "metadata": {},
     "output_type": "execute_result"
    }
   ],
   "source": [
    "data_with_encode.head()"
   ]
  },
  {
   "cell_type": "code",
   "execution_count": 36,
   "id": "cdab8979-f808-4910-8191-00af9ce0a2ad",
   "metadata": {
    "tags": []
   },
   "outputs": [],
   "source": [
    "# Question d"
   ]
  },
  {
   "cell_type": "code",
   "execution_count": 47,
   "id": "399544aa-e96f-4141-8585-0d4bc57aaed7",
   "metadata": {
    "tags": []
   },
   "outputs": [],
   "source": [
    "data_age=pd.read_csv('C:\\\\Users\\\\nekka\\\\OneDrive\\\\Desktop\\\\PDS ASSIGNMENT 2\\\\cleandata\\\\new_cleaned_data.csv')"
   ]
  },
  {
   "cell_type": "code",
   "execution_count": 48,
   "id": "9f18aac6-c09f-4566-b1e3-529d56d6ccc7",
   "metadata": {
    "tags": []
   },
   "outputs": [],
   "source": [
    "df_age=pd.DataFrame(data_age)"
   ]
  },
  {
   "cell_type": "code",
   "execution_count": 50,
   "id": "aa9f29c0-8ae5-4bb6-8c32-a5263ae7cdf7",
   "metadata": {
    "tags": []
   },
   "outputs": [],
   "source": [
    "current_year=datetime.datetime.now().year"
   ]
  },
  {
   "cell_type": "code",
   "execution_count": 51,
   "id": "b7ecbce6-547a-4782-93c2-4d6f3f248312",
   "metadata": {
    "tags": []
   },
   "outputs": [],
   "source": [
    "df_age['Car_age']=current_year-df_age['Year']"
   ]
  },
  {
   "cell_type": "code",
   "execution_count": 63,
   "id": "e8ec2783-4ccc-4c1d-9da3-155a22bd5127",
   "metadata": {
    "tags": []
   },
   "outputs": [],
   "source": [
    "data_current_age=df_age.to_csv('C:\\\\Users\\\\nekka\\\\OneDrive\\\\Desktop\\\\PDS ASSIGNMENT 2\\\\cleandata\\\\currentage_data.csv',index=False)"
   ]
  },
  {
   "cell_type": "code",
   "execution_count": 64,
   "id": "7ca55826-df57-4f39-ae15-d3afe4ff7049",
   "metadata": {
    "tags": []
   },
   "outputs": [],
   "source": [
    "data_current_age=pd.read_csv('C:\\\\Users\\\\nekka\\\\OneDrive\\\\Desktop\\\\PDS ASSIGNMENT 2\\\\cleandata\\\\currentage_data.csv')"
   ]
  },
  {
   "cell_type": "code",
   "execution_count": 54,
   "id": "f3b88642-6513-49fe-942f-abb0ec28b398",
   "metadata": {
    "tags": []
   },
   "outputs": [
    {
     "data": {
      "text/html": [
       "<div>\n",
       "<style scoped>\n",
       "    .dataframe tbody tr th:only-of-type {\n",
       "        vertical-align: middle;\n",
       "    }\n",
       "\n",
       "    .dataframe tbody tr th {\n",
       "        vertical-align: top;\n",
       "    }\n",
       "\n",
       "    .dataframe thead th {\n",
       "        text-align: right;\n",
       "    }\n",
       "</style>\n",
       "<table border=\"1\" class=\"dataframe\">\n",
       "  <thead>\n",
       "    <tr style=\"text-align: right;\">\n",
       "      <th></th>\n",
       "      <th>Unnamed: 0</th>\n",
       "      <th>Name</th>\n",
       "      <th>Location</th>\n",
       "      <th>Year</th>\n",
       "      <th>Kilometers_Driven</th>\n",
       "      <th>Fuel_Type</th>\n",
       "      <th>Transmission</th>\n",
       "      <th>Owner_Type</th>\n",
       "      <th>Mileage</th>\n",
       "      <th>Engine</th>\n",
       "      <th>Power</th>\n",
       "      <th>Seats</th>\n",
       "      <th>New_Price</th>\n",
       "      <th>Price</th>\n",
       "      <th>Car_age</th>\n",
       "    </tr>\n",
       "  </thead>\n",
       "  <tbody>\n",
       "    <tr>\n",
       "      <th>0</th>\n",
       "      <td>2</td>\n",
       "      <td>Honda Jazz V</td>\n",
       "      <td>Chennai</td>\n",
       "      <td>2011</td>\n",
       "      <td>46000</td>\n",
       "      <td>Petrol</td>\n",
       "      <td>Manual</td>\n",
       "      <td>First</td>\n",
       "      <td>13 km/kg</td>\n",
       "      <td>1199 CC</td>\n",
       "      <td>88.7 bhp</td>\n",
       "      <td>5.0</td>\n",
       "      <td>8.61 Lakh</td>\n",
       "      <td>4.50</td>\n",
       "      <td>12</td>\n",
       "    </tr>\n",
       "    <tr>\n",
       "      <th>1</th>\n",
       "      <td>7</td>\n",
       "      <td>Toyota Innova Crysta 2.8 GX AT 8S</td>\n",
       "      <td>Mumbai</td>\n",
       "      <td>2016</td>\n",
       "      <td>36000</td>\n",
       "      <td>Diesel</td>\n",
       "      <td>Automatic</td>\n",
       "      <td>First</td>\n",
       "      <td>11.36 kmpl</td>\n",
       "      <td>2755 CC</td>\n",
       "      <td>171.5 bhp</td>\n",
       "      <td>8.0</td>\n",
       "      <td>21 Lakh</td>\n",
       "      <td>17.50</td>\n",
       "      <td>7</td>\n",
       "    </tr>\n",
       "    <tr>\n",
       "      <th>2</th>\n",
       "      <td>10</td>\n",
       "      <td>Maruti Ciaz Zeta</td>\n",
       "      <td>Kochi</td>\n",
       "      <td>2018</td>\n",
       "      <td>25692</td>\n",
       "      <td>Petrol</td>\n",
       "      <td>Manual</td>\n",
       "      <td>First</td>\n",
       "      <td>21.56 kmpl</td>\n",
       "      <td>1462 CC</td>\n",
       "      <td>103.25 bhp</td>\n",
       "      <td>5.0</td>\n",
       "      <td>10.65 Lakh</td>\n",
       "      <td>9.95</td>\n",
       "      <td>5</td>\n",
       "    </tr>\n",
       "    <tr>\n",
       "      <th>3</th>\n",
       "      <td>15</td>\n",
       "      <td>Mitsubishi Pajero Sport 4X4</td>\n",
       "      <td>Delhi</td>\n",
       "      <td>2014</td>\n",
       "      <td>110000</td>\n",
       "      <td>Diesel</td>\n",
       "      <td>Manual</td>\n",
       "      <td>First</td>\n",
       "      <td>13.5 kmpl</td>\n",
       "      <td>2477 CC</td>\n",
       "      <td>175.56 bhp</td>\n",
       "      <td>7.0</td>\n",
       "      <td>32.01 Lakh</td>\n",
       "      <td>15.00</td>\n",
       "      <td>9</td>\n",
       "    </tr>\n",
       "    <tr>\n",
       "      <th>4</th>\n",
       "      <td>20</td>\n",
       "      <td>BMW 3 Series 320d</td>\n",
       "      <td>Kochi</td>\n",
       "      <td>2014</td>\n",
       "      <td>32982</td>\n",
       "      <td>Diesel</td>\n",
       "      <td>Automatic</td>\n",
       "      <td>First</td>\n",
       "      <td>22.69 kmpl</td>\n",
       "      <td>1995 CC</td>\n",
       "      <td>190 bhp</td>\n",
       "      <td>5.0</td>\n",
       "      <td>47.87 Lakh</td>\n",
       "      <td>18.55</td>\n",
       "      <td>9</td>\n",
       "    </tr>\n",
       "  </tbody>\n",
       "</table>\n",
       "</div>"
      ],
      "text/plain": [
       "   Unnamed: 0                               Name Location  Year  \\\n",
       "0           2                       Honda Jazz V  Chennai  2011   \n",
       "1           7  Toyota Innova Crysta 2.8 GX AT 8S   Mumbai  2016   \n",
       "2          10                   Maruti Ciaz Zeta    Kochi  2018   \n",
       "3          15        Mitsubishi Pajero Sport 4X4    Delhi  2014   \n",
       "4          20                  BMW 3 Series 320d    Kochi  2014   \n",
       "\n",
       "   Kilometers_Driven Fuel_Type Transmission Owner_Type     Mileage   Engine  \\\n",
       "0              46000    Petrol       Manual      First    13 km/kg  1199 CC   \n",
       "1              36000    Diesel    Automatic      First  11.36 kmpl  2755 CC   \n",
       "2              25692    Petrol       Manual      First  21.56 kmpl  1462 CC   \n",
       "3             110000    Diesel       Manual      First   13.5 kmpl  2477 CC   \n",
       "4              32982    Diesel    Automatic      First  22.69 kmpl  1995 CC   \n",
       "\n",
       "        Power  Seats   New_Price  Price  Car_age  \n",
       "0    88.7 bhp    5.0   8.61 Lakh   4.50       12  \n",
       "1   171.5 bhp    8.0     21 Lakh  17.50        7  \n",
       "2  103.25 bhp    5.0  10.65 Lakh   9.95        5  \n",
       "3  175.56 bhp    7.0  32.01 Lakh  15.00        9  \n",
       "4     190 bhp    5.0  47.87 Lakh  18.55        9  "
      ]
     },
     "execution_count": 54,
     "metadata": {},
     "output_type": "execute_result"
    }
   ],
   "source": [
    "data_current_age.head()"
   ]
  },
  {
   "cell_type": "code",
   "execution_count": null,
   "id": "8087d603-b690-4898-a29a-0d3e778d97ae",
   "metadata": {},
   "outputs": [],
   "source": []
  }
 ],
 "metadata": {
  "kernelspec": {
   "display_name": "Python 3 (ipykernel)",
   "language": "python",
   "name": "python3"
  },
  "language_info": {
   "codemirror_mode": {
    "name": "ipython",
    "version": 3
   },
   "file_extension": ".py",
   "mimetype": "text/x-python",
   "name": "python",
   "nbconvert_exporter": "python",
   "pygments_lexer": "ipython3",
   "version": "3.11.4"
  }
 },
 "nbformat": 4,
 "nbformat_minor": 5
}
